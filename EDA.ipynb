{
 "cells": [
  {
   "cell_type": "markdown",
   "id": "4a4167e5",
   "metadata": {},
   "source": [
    "https://webnautes.tistory.com/1658"
   ]
  },
  {
   "cell_type": "code",
   "execution_count": 1,
   "id": "da7ab678",
   "metadata": {
    "ExecuteTime": {
     "end_time": "2023-05-29T09:55:11.988442Z",
     "start_time": "2023-05-29T09:55:09.445711Z"
    }
   },
   "outputs": [
    {
     "ename": "NameError",
     "evalue": "name 'plt' is not defined",
     "output_type": "error",
     "traceback": [
      "\u001b[1;31m---------------------------------------------------------------------------\u001b[0m",
      "\u001b[1;31mNameError\u001b[0m                                 Traceback (most recent call last)",
      "Cell \u001b[1;32mIn[1], line 22\u001b[0m\n\u001b[0;32m     20\u001b[0m     plt\u001b[38;5;241m.\u001b[39mrc(\u001b[38;5;124m'\u001b[39m\u001b[38;5;124mfont\u001b[39m\u001b[38;5;124m'\u001b[39m, family\u001b[38;5;241m=\u001b[39m\u001b[38;5;124m'\u001b[39m\u001b[38;5;124mAppleGothic\u001b[39m\u001b[38;5;124m'\u001b[39m)\n\u001b[0;32m     21\u001b[0m \u001b[38;5;28;01melif\u001b[39;00m os\u001b[38;5;241m.\u001b[39mname \u001b[38;5;241m==\u001b[39m \u001b[38;5;124m'\u001b[39m\u001b[38;5;124mnt\u001b[39m\u001b[38;5;124m'\u001b[39m: \u001b[38;5;66;03m# Windows 환경 폰트 설정\u001b[39;00m\n\u001b[1;32m---> 22\u001b[0m     \u001b[43mplt\u001b[49m\u001b[38;5;241m.\u001b[39mrc(\u001b[38;5;124m'\u001b[39m\u001b[38;5;124mfont\u001b[39m\u001b[38;5;124m'\u001b[39m, family\u001b[38;5;241m=\u001b[39m\u001b[38;5;124m'\u001b[39m\u001b[38;5;124mMalgun Gothic\u001b[39m\u001b[38;5;124m'\u001b[39m)\n",
      "\u001b[1;31mNameError\u001b[0m: name 'plt' is not defined"
     ]
    }
   ],
   "source": [
    "import pandas as pd\n",
    "import random\n",
    "import os\n",
    "\n",
    "from sklearn.preprocessing import LabelEncoder\n",
    "from sklearn.model_selection import train_test_split\n",
    "from sklearn.metrics import f1_score\n",
    "\n",
    "import optuna\n",
    "from optuna import Trial, visualization\n",
    "from optuna.samplers import TPESampler\n",
    "\n",
    "import xgboost\n",
    "from xgboost import XGBClassifier\n",
    "\n",
    "import warnings\n",
    "warnings.filterwarnings('ignore')\n",
    "\n",
    "if os.name == 'posix': # Mac 환경 폰트 설정\n",
    "    plt.rc('font', family='AppleGothic')\n",
    "elif os.name == 'nt': # Windows 환경 폰트 설정\n",
    "    plt.rc('font', family='Malgun Gothic')"
   ]
  },
  {
   "cell_type": "markdown",
   "id": "a2a09af3",
   "metadata": {},
   "source": [
    "# 시드 고정"
   ]
  },
  {
   "cell_type": "code",
   "execution_count": null,
   "id": "7bd41389",
   "metadata": {
    "ExecuteTime": {
     "end_time": "2023-05-29T09:55:11.995425Z",
     "start_time": "2023-05-29T09:55:11.995425Z"
    }
   },
   "outputs": [],
   "source": [
    "CFG = {\n",
    "    'SEED':42\n",
    "}\n",
    "\n",
    "def seed_everything(seed):\n",
    "    random.seed(seed)\n",
    "    os.environ['PYTHONHASHSEED'] = str(seed)\n",
    "    np.random.seed(seed)\n",
    "\n",
    "seed_everything(CFG['SEED'])"
   ]
  },
  {
   "cell_type": "markdown",
   "id": "27419e0d",
   "metadata": {},
   "source": [
    "# Load Data"
   ]
  },
  {
   "cell_type": "code",
   "execution_count": 6,
   "id": "7ed5a8bc",
   "metadata": {
    "ExecuteTime": {
     "end_time": "2023-05-29T09:57:55.539620Z",
     "start_time": "2023-05-29T09:57:55.298090Z"
    }
   },
   "outputs": [
    {
     "data": {
      "text/html": [
       "<div>\n",
       "<style scoped>\n",
       "    .dataframe tbody tr th:only-of-type {\n",
       "        vertical-align: middle;\n",
       "    }\n",
       "\n",
       "    .dataframe tbody tr th {\n",
       "        vertical-align: top;\n",
       "    }\n",
       "\n",
       "    .dataframe thead th {\n",
       "        text-align: right;\n",
       "    }\n",
       "</style>\n",
       "<table border=\"1\" class=\"dataframe\">\n",
       "  <thead>\n",
       "    <tr style=\"text-align: right;\">\n",
       "      <th></th>\n",
       "      <th>ID</th>\n",
       "      <th>월</th>\n",
       "      <th>요일</th>\n",
       "      <th>시간</th>\n",
       "      <th>소관경찰서</th>\n",
       "      <th>소관지역</th>\n",
       "      <th>사건발생거리</th>\n",
       "      <th>강수량(mm)</th>\n",
       "      <th>강설량(mm)</th>\n",
       "      <th>적설량(cm)</th>\n",
       "      <th>풍향</th>\n",
       "      <th>안개</th>\n",
       "      <th>짙은안개</th>\n",
       "      <th>번개</th>\n",
       "      <th>진눈깨비</th>\n",
       "      <th>서리</th>\n",
       "      <th>연기/연무</th>\n",
       "      <th>눈날림</th>\n",
       "      <th>범죄발생지</th>\n",
       "      <th>TARGET</th>\n",
       "    </tr>\n",
       "  </thead>\n",
       "  <tbody>\n",
       "    <tr>\n",
       "      <th>0</th>\n",
       "      <td>TRAIN_00000</td>\n",
       "      <td>9</td>\n",
       "      <td>화요일</td>\n",
       "      <td>10</td>\n",
       "      <td>137</td>\n",
       "      <td>8.0</td>\n",
       "      <td>2.611124</td>\n",
       "      <td>0.0</td>\n",
       "      <td>0.0</td>\n",
       "      <td>0.0</td>\n",
       "      <td>245.0</td>\n",
       "      <td>0.0</td>\n",
       "      <td>0.0</td>\n",
       "      <td>0.0</td>\n",
       "      <td>0.0</td>\n",
       "      <td>0.0</td>\n",
       "      <td>0.0</td>\n",
       "      <td>0.0</td>\n",
       "      <td>차도</td>\n",
       "      <td>2</td>\n",
       "    </tr>\n",
       "    <tr>\n",
       "      <th>1</th>\n",
       "      <td>TRAIN_00001</td>\n",
       "      <td>11</td>\n",
       "      <td>화요일</td>\n",
       "      <td>6</td>\n",
       "      <td>438</td>\n",
       "      <td>13.0</td>\n",
       "      <td>3.209093</td>\n",
       "      <td>0.0</td>\n",
       "      <td>0.0</td>\n",
       "      <td>0.0</td>\n",
       "      <td>200.0</td>\n",
       "      <td>0.0</td>\n",
       "      <td>0.0</td>\n",
       "      <td>0.0</td>\n",
       "      <td>0.0</td>\n",
       "      <td>0.0</td>\n",
       "      <td>0.0</td>\n",
       "      <td>0.0</td>\n",
       "      <td>차도</td>\n",
       "      <td>0</td>\n",
       "    </tr>\n",
       "    <tr>\n",
       "      <th>2</th>\n",
       "      <td>TRAIN_00002</td>\n",
       "      <td>8</td>\n",
       "      <td>일요일</td>\n",
       "      <td>6</td>\n",
       "      <td>1729</td>\n",
       "      <td>47.0</td>\n",
       "      <td>1.619597</td>\n",
       "      <td>0.0</td>\n",
       "      <td>0.0</td>\n",
       "      <td>0.0</td>\n",
       "      <td>40.0</td>\n",
       "      <td>1.0</td>\n",
       "      <td>0.0</td>\n",
       "      <td>0.0</td>\n",
       "      <td>0.0</td>\n",
       "      <td>0.0</td>\n",
       "      <td>1.0</td>\n",
       "      <td>0.0</td>\n",
       "      <td>인도</td>\n",
       "      <td>1</td>\n",
       "    </tr>\n",
       "  </tbody>\n",
       "</table>\n",
       "</div>"
      ],
      "text/plain": [
       "            ID   월   요일  시간  소관경찰서  소관지역    사건발생거리  강수량(mm)  강설량(mm)  적설량(cm)  \\\n",
       "0  TRAIN_00000   9  화요일  10    137   8.0  2.611124      0.0      0.0      0.0   \n",
       "1  TRAIN_00001  11  화요일   6    438  13.0  3.209093      0.0      0.0      0.0   \n",
       "2  TRAIN_00002   8  일요일   6   1729  47.0  1.619597      0.0      0.0      0.0   \n",
       "\n",
       "      풍향   안개  짙은안개   번개  진눈깨비   서리  연기/연무  눈날림 범죄발생지  TARGET  \n",
       "0  245.0  0.0   0.0  0.0   0.0  0.0    0.0  0.0    차도       2  \n",
       "1  200.0  0.0   0.0  0.0   0.0  0.0    0.0  0.0    차도       0  \n",
       "2   40.0  1.0   0.0  0.0   0.0  0.0    1.0  0.0    인도       1  "
      ]
     },
     "metadata": {},
     "output_type": "display_data"
    },
    {
     "data": {
      "text/html": [
       "<div>\n",
       "<style scoped>\n",
       "    .dataframe tbody tr th:only-of-type {\n",
       "        vertical-align: middle;\n",
       "    }\n",
       "\n",
       "    .dataframe tbody tr th {\n",
       "        vertical-align: top;\n",
       "    }\n",
       "\n",
       "    .dataframe thead th {\n",
       "        text-align: right;\n",
       "    }\n",
       "</style>\n",
       "<table border=\"1\" class=\"dataframe\">\n",
       "  <thead>\n",
       "    <tr style=\"text-align: right;\">\n",
       "      <th></th>\n",
       "      <th>ID</th>\n",
       "      <th>월</th>\n",
       "      <th>요일</th>\n",
       "      <th>시간</th>\n",
       "      <th>소관경찰서</th>\n",
       "      <th>소관지역</th>\n",
       "      <th>사건발생거리</th>\n",
       "      <th>강수량(mm)</th>\n",
       "      <th>강설량(mm)</th>\n",
       "      <th>적설량(cm)</th>\n",
       "      <th>풍향</th>\n",
       "      <th>안개</th>\n",
       "      <th>짙은안개</th>\n",
       "      <th>번개</th>\n",
       "      <th>진눈깨비</th>\n",
       "      <th>서리</th>\n",
       "      <th>연기/연무</th>\n",
       "      <th>눈날림</th>\n",
       "      <th>범죄발생지</th>\n",
       "    </tr>\n",
       "  </thead>\n",
       "  <tbody>\n",
       "    <tr>\n",
       "      <th>0</th>\n",
       "      <td>TEST_00000</td>\n",
       "      <td>9</td>\n",
       "      <td>금요일</td>\n",
       "      <td>5</td>\n",
       "      <td>927</td>\n",
       "      <td>28.0</td>\n",
       "      <td>1.570654</td>\n",
       "      <td>19.625000</td>\n",
       "      <td>0.0</td>\n",
       "      <td>0.0</td>\n",
       "      <td>165.0</td>\n",
       "      <td>1.0</td>\n",
       "      <td>0.0</td>\n",
       "      <td>1.0</td>\n",
       "      <td>0.0</td>\n",
       "      <td>0.0</td>\n",
       "      <td>0.0</td>\n",
       "      <td>0.0</td>\n",
       "      <td>차도</td>\n",
       "    </tr>\n",
       "    <tr>\n",
       "      <th>1</th>\n",
       "      <td>TEST_00001</td>\n",
       "      <td>5</td>\n",
       "      <td>수요일</td>\n",
       "      <td>3</td>\n",
       "      <td>926</td>\n",
       "      <td>28.0</td>\n",
       "      <td>1.712457</td>\n",
       "      <td>21.444444</td>\n",
       "      <td>0.0</td>\n",
       "      <td>0.0</td>\n",
       "      <td>175.0</td>\n",
       "      <td>1.0</td>\n",
       "      <td>0.0</td>\n",
       "      <td>0.0</td>\n",
       "      <td>0.0</td>\n",
       "      <td>0.0</td>\n",
       "      <td>1.0</td>\n",
       "      <td>0.0</td>\n",
       "      <td>식당</td>\n",
       "    </tr>\n",
       "    <tr>\n",
       "      <th>2</th>\n",
       "      <td>TEST_00002</td>\n",
       "      <td>5</td>\n",
       "      <td>월요일</td>\n",
       "      <td>6</td>\n",
       "      <td>1437</td>\n",
       "      <td>33.0</td>\n",
       "      <td>0.447496</td>\n",
       "      <td>25.200000</td>\n",
       "      <td>0.0</td>\n",
       "      <td>0.0</td>\n",
       "      <td>290.0</td>\n",
       "      <td>1.0</td>\n",
       "      <td>0.0</td>\n",
       "      <td>0.0</td>\n",
       "      <td>0.0</td>\n",
       "      <td>0.0</td>\n",
       "      <td>0.0</td>\n",
       "      <td>0.0</td>\n",
       "      <td>주거지</td>\n",
       "    </tr>\n",
       "  </tbody>\n",
       "</table>\n",
       "</div>"
      ],
      "text/plain": [
       "           ID  월   요일  시간  소관경찰서  소관지역    사건발생거리    강수량(mm)  강설량(mm)  적설량(cm)  \\\n",
       "0  TEST_00000  9  금요일   5    927  28.0  1.570654  19.625000      0.0      0.0   \n",
       "1  TEST_00001  5  수요일   3    926  28.0  1.712457  21.444444      0.0      0.0   \n",
       "2  TEST_00002  5  월요일   6   1437  33.0  0.447496  25.200000      0.0      0.0   \n",
       "\n",
       "      풍향   안개  짙은안개   번개  진눈깨비   서리  연기/연무  눈날림 범죄발생지  \n",
       "0  165.0  1.0   0.0  1.0   0.0  0.0    0.0  0.0    차도  \n",
       "1  175.0  1.0   0.0  0.0   0.0  0.0    1.0  0.0    식당  \n",
       "2  290.0  1.0   0.0  0.0   0.0  0.0    0.0  0.0   주거지  "
      ]
     },
     "metadata": {},
     "output_type": "display_data"
    }
   ],
   "source": [
    "train_data = pd.read_csv('train.csv')\n",
    "test_data = pd.read_csv('test.csv')\n",
    "\n",
    "display(train_data.head(3))\n",
    "display(test_data.head(3))"
   ]
  },
  {
   "cell_type": "code",
   "execution_count": 10,
   "id": "d158c0ff",
   "metadata": {
    "ExecuteTime": {
     "end_time": "2023-05-29T09:58:46.976852Z",
     "start_time": "2023-05-29T09:58:46.959353Z"
    }
   },
   "outputs": [
    {
     "data": {
      "text/plain": [
       "array(['화요일', '일요일', '월요일', '목요일', '수요일', '토요일', '금요일'], dtype=object)"
      ]
     },
     "execution_count": 10,
     "metadata": {},
     "output_type": "execute_result"
    }
   ],
   "source": [
    "test_data['요일'].unique()\n",
    "train_data['요일'].unique()"
   ]
  },
  {
   "cell_type": "code",
   "execution_count": null,
   "id": "cb3afc8a",
   "metadata": {
    "ExecuteTime": {
     "end_time": "2023-05-29T09:41:42.261726Z",
     "start_time": "2023-05-29T09:41:42.196206Z"
    }
   },
   "outputs": [],
   "source": [
    "X_train, X_test, y_train, y_test = train_test_split(train, train_label, test_size=0.2, random_state=42, stratify=train_label)\n",
    "\n",
    "for i in [X_train, X_test, y_train, y_test]:\n",
    "    print(len(i))"
   ]
  },
  {
   "cell_type": "code",
   "execution_count": null,
   "id": "929b260a",
   "metadata": {
    "ExecuteTime": {
     "end_time": "2023-05-29T09:43:12.672546Z",
     "start_time": "2023-05-29T09:43:12.644173Z"
    }
   },
   "outputs": [],
   "source": [
    "display(y_test.value_counts()/sum(y_test.values)*100)\n",
    "display(y_train.value_counts()/sum(y_train.values)*100)"
   ]
  },
  {
   "cell_type": "markdown",
   "id": "7a742dac",
   "metadata": {},
   "source": [
    "# Pipe line"
   ]
  },
  {
   "cell_type": "code",
   "execution_count": null,
   "id": "f54c8830",
   "metadata": {},
   "outputs": [],
   "source": []
  },
  {
   "cell_type": "markdown",
   "id": "4551f29b",
   "metadata": {},
   "source": [
    "# Label Encoding"
   ]
  },
  {
   "cell_type": "code",
   "execution_count": null,
   "id": "0866b69b",
   "metadata": {
    "ExecuteTime": {
     "end_time": "2023-05-29T09:49:43.202044Z",
     "start_time": "2023-05-29T09:49:42.761483Z"
    }
   },
   "outputs": [],
   "source": [
    "ordinal_features = ['요일', '범죄발생지']\n",
    "\n",
    "for features in ordinal_features:\n",
    "    le = LabelEncoder()\n",
    "    le = le.fit(train[features])\n",
    "    train[features] = le.transform(train[features])\n",
    "    X_train[features] = le.transform(X_train[features])\n",
    "    X_test[features] = le.transform(X_test[features])\n",
    "    for label in np.unique(test[features]):\n",
    "        if label not in le.classes_:\n",
    "            le.classes_ = np.append(le.classes_, label)\n",
    "    test[features] = le.transform(test[features])"
   ]
  },
  {
   "cell_type": "markdown",
   "id": "be23a75b",
   "metadata": {},
   "source": [
    "# Sample Weights"
   ]
  },
  {
   "cell_type": "code",
   "execution_count": null,
   "id": "b4208530",
   "metadata": {
    "ExecuteTime": {
     "end_time": "2023-05-29T09:49:43.375229Z",
     "start_time": "2023-05-29T09:49:43.360398Z"
    }
   },
   "outputs": [],
   "source": [
    "y_train.value_counts()"
   ]
  },
  {
   "cell_type": "code",
   "execution_count": null,
   "id": "a125c273",
   "metadata": {
    "ExecuteTime": {
     "end_time": "2023-05-29T09:48:03.688251Z",
     "start_time": "2023-05-29T09:48:03.671883Z"
    }
   },
   "outputs": [],
   "source": [
    "np.bincount(y_train)"
   ]
  },
  {
   "cell_type": "code",
   "execution_count": null,
   "id": "552d8945",
   "metadata": {
    "ExecuteTime": {
     "end_time": "2023-05-29T09:48:03.953921Z",
     "start_time": "2023-05-29T09:48:03.940361Z"
    }
   },
   "outputs": [],
   "source": [
    "def CreateBalancedSampleWeights(y_train, largest_class_weight_coef):\n",
    "    classes = y_train.unique()\n",
    "    classes.sort()\n",
    "    class_samples = np.bincount(y_train)\n",
    "    total_samples = class_samples.sum()\n",
    "    n_classes = len(class_samples)\n",
    "    weights = total_samples / (n_classes * class_samples * 1.0)\n",
    "    class_weight_dict = {key : value for (key, value) in zip(classes, weights)}\n",
    "    class_weight_dict[classes[1]] = class_weight_dict[classes[1]] * largest_class_weight_coef\n",
    "    sample_weights = [class_weight_dict[y] for y in y_train]\n",
    "\n",
    "    return sample_weights"
   ]
  },
  {
   "cell_type": "code",
   "execution_count": null,
   "id": "eb2fd600",
   "metadata": {
    "ExecuteTime": {
     "end_time": "2023-05-29T09:48:04.232757Z",
     "start_time": "2023-05-29T09:48:04.211926Z"
    },
    "scrolled": true
   },
   "outputs": [],
   "source": [
    "train_sample_weight = CreateBalancedSampleWeights(y_train, largest_class_weight_coef=1)\n",
    "train_sample_weight[:10]"
   ]
  },
  {
   "cell_type": "markdown",
   "id": "a4193ac3",
   "metadata": {},
   "source": [
    "# Optuna"
   ]
  },
  {
   "cell_type": "raw",
   "id": "27df8609",
   "metadata": {
    "ExecuteTime": {
     "end_time": "2023-05-29T09:48:04.857665Z",
     "start_time": "2023-05-29T09:48:04.841101Z"
    }
   },
   "source": [
    "def objectigveXGB(trial : Trial, X, y, test):\n",
    "    param = {\n",
    "        'n_estimators':trial.suggest_int('n_estimators', 500, 10000),\n",
    "        'max_depth':trial.suggest_int('max_depth', 8, 16),\n",
    "        'min_child_weight':trial.suggest_int('min_child_weight', 1, 300),\n",
    "        'gamma':trial.suggest_int('gamma', 1, 3),\n",
    "        'learning_rate':trial.suggest_float('learning_rate', 0.0001, 0.01),\n",
    "        'colsample_bytree':trial.suggest_float('colsample_bytree', 0.1, 1.0),\n",
    "        'nthred':-1,\n",
    "        'lambda':trial.suggest_loguniform('lambda', 1e-3, 10.0),\n",
    "        'alpha':trial.suggest_loguniform('alpha', 1e-3, 10.0),\n",
    "        'random_state':42\n",
    "     }\n",
    "    model = XGBClassifier(**param)\n",
    "    xgb_model = model.fit(X_train, y_train, verbose=True)\n",
    "    \n",
    "    score = f1_score(xgb_model.predict(X_train), y_train, average='macro')\n",
    "    \n",
    "    return score"
   ]
  },
  {
   "cell_type": "code",
   "execution_count": null,
   "id": "b15220bc",
   "metadata": {
    "ExecuteTime": {
     "end_time": "2023-05-29T09:48:05.433677Z",
     "start_time": "2023-05-29T09:48:05.203148Z"
    }
   },
   "outputs": [],
   "source": [
    "study = optuna.create_study(direction='maximize', sampler=TPESampler(), )\n",
    "\n",
    "study.optimize(lambda trial:objectigveXGB(trial, X_train, y_train, X_test), n_trials=50)"
   ]
  },
  {
   "cell_type": "code",
   "execution_count": null,
   "id": "625d2988",
   "metadata": {},
   "outputs": [],
   "source": []
  },
  {
   "cell_type": "code",
   "execution_count": null,
   "id": "3e6e4f2e",
   "metadata": {},
   "outputs": [],
   "source": []
  }
 ],
 "metadata": {
  "kernelspec": {
   "display_name": "Python 3 (ipykernel)",
   "language": "python",
   "name": "python3"
  },
  "language_info": {
   "codemirror_mode": {
    "name": "ipython",
    "version": 3
   },
   "file_extension": ".py",
   "mimetype": "text/x-python",
   "name": "python",
   "nbconvert_exporter": "python",
   "pygments_lexer": "ipython3",
   "version": "3.10.9"
  },
  "toc": {
   "base_numbering": 1,
   "nav_menu": {},
   "number_sections": true,
   "sideBar": true,
   "skip_h1_title": false,
   "title_cell": "Table of Contents",
   "title_sidebar": "Contents",
   "toc_cell": false,
   "toc_position": {
    "height": "calc(100% - 180px)",
    "left": "10px",
    "top": "150px",
    "width": "212.882px"
   },
   "toc_section_display": true,
   "toc_window_display": false
  }
 },
 "nbformat": 4,
 "nbformat_minor": 5
}
